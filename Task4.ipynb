{
 "cells": [
  {
   "cell_type": "code",
   "execution_count": 79,
   "id": "73e3a96f-8f0c-4c10-840a-89031321d0bc",
   "metadata": {},
   "outputs": [],
   "source": [
    "import msprime\n",
    "import numpy as np\n",
    "from IPython.display import SVG, display\n",
    "\n",
    "import concurrent.futures"
   ]
  },
  {
   "cell_type": "code",
   "execution_count": 80,
   "id": "99203336-3699-48ec-8eab-13c37f471d34",
   "metadata": {},
   "outputs": [],
   "source": [
    "# demography parameters\n",
    "dem_size = 1e5\n",
    "T_split = 1000\n",
    "split_proportion=0.95\n",
    "T_p3 = 15"
   ]
  },
  {
   "cell_type": "code",
   "execution_count": 6,
   "id": "dbfc571c-1f24-478e-b45a-a598cf4af253",
   "metadata": {},
   "outputs": [
    {
     "ename": "NameError",
     "evalue": "name 'msprime' is not defined",
     "output_type": "error",
     "traceback": [
      "\u001b[0;31m---------------------------------------------------------------------------\u001b[0m",
      "\u001b[0;31mNameError\u001b[0m                                 Traceback (most recent call last)",
      "Cell \u001b[0;32mIn[6], line 1\u001b[0m\n\u001b[0;32m----> 1\u001b[0m dem \u001b[38;5;241m=\u001b[39m \u001b[43mmsprime\u001b[49m\u001b[38;5;241m.\u001b[39mDemography()\n\u001b[1;32m      2\u001b[0m dem\u001b[38;5;241m.\u001b[39madd_population(name\u001b[38;5;241m=\u001b[39m\u001b[38;5;124m\"\u001b[39m\u001b[38;5;124mp0\u001b[39m\u001b[38;5;124m\"\u001b[39m, initial_size\u001b[38;5;241m=\u001b[39mdem_size\u001b[38;5;241m*\u001b[39m\u001b[38;5;241m2\u001b[39m)\n\u001b[1;32m      3\u001b[0m \u001b[38;5;66;03m# two original populations\u001b[39;00m\n",
      "\u001b[0;31mNameError\u001b[0m: name 'msprime' is not defined"
     ]
    }
   ],
   "source": [
    "dem = msprime.Demography()\n",
    "dem.add_population(name=\"p0\", initial_size=dem_size*2)\n",
    "# two original populations\n",
    "dem.add_population(name=\"p1\", initial_size=dem_size)\n",
    "dem.add_population(name=\"p2\", initial_size=dem_size)\n",
    "# admixture population\n",
    "dem.add_population(name=\"p3\", initial_size=dem_size*0.5)\n",
    "# split_proportion is unknown\n",
    "dem.add_admixture(time=15, derived=\"p3\", ancestral=[\"p1\", \"p2\"],\n",
    "                  proportions=[split_proportion, 1-split_proportion])\n",
    "dem.add_population_split(time=1000, derived=[\"p1\", \"p2\"], ancestral=\"p0\")"
   ]
  },
  {
   "cell_type": "code",
   "execution_count": 5,
   "id": "cb305ec7-e05d-421a-a09e-0187ac76bdd4",
   "metadata": {},
   "outputs": [
    {
     "name": "stdout",
     "output_type": "stream",
     "text": [
      "p1 0\n",
      "p2 1\n",
      "p0 2\n",
      "p3 3\n"
     ]
    }
   ],
   "source": [
    "for pop in dem.populations:\n",
    "    print(pop.name, pop.id)"
   ]
  },
  {
   "cell_type": "markdown",
   "id": "f7c3dad0-0082-41c0-b0c3-e43e5cb7136e",
   "metadata": {},
   "source": [
    "l3 = l1 * a + l2 * (1-a)\n",
    "\n",
    "a = (l3 - l2) / (l1 - l2) -> цель"
   ]
  },
  {
   "cell_type": "markdown",
   "id": "dbd879d4-b820-4546-9842-933c4459fa30",
   "metadata": {},
   "source": [
    "Генерим параллельно!!"
   ]
  },
  {
   "cell_type": "markdown",
   "id": "b2d80a0e-daa0-4df6-a6f1-31f5a4c072d4",
   "metadata": {},
   "source": [
    "## 1. Распределение через долю соседей"
   ]
  },
  {
   "cell_type": "code",
   "execution_count": 25,
   "id": "1c9af6ff-257a-4280-a412-537e39a35981",
   "metadata": {},
   "outputs": [],
   "source": [
    "def sample_proportion(treeseq, sample):\n",
    "    occur = 0\n",
    "    for tree in treeseq.trees():\n",
    "        siblings = tree.siblings(sample)\n",
    "        nearest = list([leaf for leaf in tree.leaves(sibling)] for sibling in siblings)[0]\n",
    "        nearest_pop = [tree.population(nd) for nd in nearest]\n",
    "        occur += nearest_pop.count(0) * tree.span / len(nearest_pop)\n",
    "    occur /= treeseq.sequence_length\n",
    "    return occur\n",
    "\n",
    "def mean_proportions(ts, samples_set):\n",
    "    proportions = np.array([sample_proportion(ts, s) for s in samples_set])\n",
    "    return np.mean(proportions)"
   ]
  },
  {
   "cell_type": "code",
   "execution_count": 44,
   "id": "6b23cda4-e221-4a22-8a69-ca2dfbff5b63",
   "metadata": {
    "collapsed": true,
    "jupyter": {
     "outputs_hidden": true
    },
    "scrolled": true
   },
   "outputs": [
    {
     "name": "stdout",
     "output_type": "stream",
     "text": [
      "2000 2000 2000 1078\n",
      "L1 passed\n",
      "L2 passed\n",
      "L3 passed\n",
      "2000 2000 2000 1078\n",
      "L1 passed\n",
      "L2 passed\n",
      "L3 passed\n",
      "2000 2000 2000 1078\n",
      "L1 passed\n",
      "L2 passed\n",
      "L3 passed\n",
      "2000 2000 2000 1078\n",
      "L1 passed\n",
      "L2 passed\n",
      "L3 passed\n",
      "2000 2000 2000 1078\n",
      "L1 passed\n",
      "L2 passed\n",
      "L3 passed\n",
      "2000 2000 2000 1078\n",
      "L1 passed\n",
      "L2 passed\n",
      "L3 passed\n",
      "2000 2000 2000 1078\n",
      "L1 passed\n",
      "L2 passed\n",
      "L3 passed\n",
      "2000 2000 2000 1078\n",
      "L1 passed\n",
      "L2 passed\n",
      "L3 passed\n",
      "50.3 s ± 193 ms per loop (mean ± std. dev. of 7 runs, 1 loop each)\n"
     ]
    }
   ],
   "source": [
    "%%timeit\n",
    "treeseq = msprime.sim_ancestry(\n",
    "        samples={\"p1\": p_size, \"p2\": p_size, \"p3\": p3_size},\n",
    "        demography=dem,\n",
    "        sequence_length=3e5, # надо 3e6\n",
    "        recombination_rate=1e-9, # надо 1e-8\n",
    "        random_seed=seed,\n",
    "        # record_migrations=True,    \n",
    "        # record_provenance=True\n",
    ")\n",
    "samples_p1 = treeseq.samples(population_id=0)\n",
    "samples_p2 = treeseq.samples(population_id=1)\n",
    "samples_p3 = treeseq.samples(population_id=3)\n",
    "print(samples_p1.size, samples_p2.size, samples_p3.size, treeseq.num_trees)\n",
    "L1 = mean_proportions(treeseq, samples_p1)\n",
    "print(\"L1 passed\")\n",
    "L2 = mean_proportions(treeseq, samples_p2)\n",
    "print(\"L2 passed\")\n",
    "L3 = mean_proportions(treeseq, samples_p3)\n",
    "print(\"L3 passed\")\n",
    "[L1, L2, L3]"
   ]
  },
  {
   "cell_type": "code",
   "execution_count": 46,
   "id": "8c4bc30c-d583-48bc-91dc-db28eb1c602b",
   "metadata": {},
   "outputs": [],
   "source": [
    "p_size = 3000\n",
    "p3_size = 3000 # в перспективе для наглядности нужно больше"
   ]
  },
  {
   "cell_type": "code",
   "execution_count": 45,
   "id": "1be6cbed-09a8-4c2b-a83a-a52601bf20b5",
   "metadata": {},
   "outputs": [],
   "source": [
    "def worker(seed):\n",
    "    treeseq = msprime.sim_ancestry(\n",
    "        samples={\"p1\": p_size, \"p2\": p_size, \"p3\": p3_size},\n",
    "        demography=dem,\n",
    "        sequence_length=3e5, # надо 3e6\n",
    "        recombination_rate=1e-9, # надо 1e-8\n",
    "        random_seed=seed,\n",
    "        # record_migrations=True,    \n",
    "        # record_provenance=True\n",
    "    )\n",
    "    samples_p1 = treeseq.samples(population_id=0)\n",
    "    samples_p2 = treeseq.samples(population_id=1)\n",
    "    samples_p3 = treeseq.samples(population_id=3)\n",
    "    \n",
    "    L1 = mean_proportions(treeseq, samples_p1)  \n",
    "    L2 = mean_proportions(treeseq, samples_p2)\n",
    "    L3 = mean_proportions(treeseq, samples_p3)\n",
    "    return [L1, L2, L3]"
   ]
  },
  {
   "cell_type": "code",
   "execution_count": 47,
   "id": "367bc78b-3b52-4654-9371-614f0ce9f09a",
   "metadata": {},
   "outputs": [
    {
     "data": {
      "text/plain": [
       "(np.float64(0.9222218046038165),\n",
       " np.float64(0.0001783248431078886),\n",
       " np.float64(0.07745019335917316))"
      ]
     },
     "execution_count": 47,
     "metadata": {},
     "output_type": "execute_result"
    }
   ],
   "source": [
    "num_replicates = 10\n",
    "rng = np.random.RandomState(42)\n",
    "seeds = rng.randint(1, 2**31, size=num_replicates)\n",
    "seq_length = 3e5\n",
    "rec_rate = 1e-9\n",
    "\n",
    "with concurrent.futures.ProcessPoolExecutor() as executor:\n",
    "    results = executor.map(worker, seeds)\n",
    "    S = np.array(list(results))\n",
    "L1 = np.mean(S[:, 0])\n",
    "L2 = np.mean(S[:, 1])\n",
    "L3 = np.mean(S[:, 2])\n",
    "np.mean(L1), np.mean(L2), np.mean(L3)"
   ]
  },
  {
   "cell_type": "code",
   "execution_count": 85,
   "id": "bd860c83-6998-4634-b922-f71534e32372",
   "metadata": {},
   "outputs": [
    {
     "data": {
      "text/plain": [
       "(np.float64(0.9222218046038165),\n",
       " np.float64(0.0001783248431078886),\n",
       " np.float64(0.07745019335917316))"
      ]
     },
     "execution_count": 85,
     "metadata": {},
     "output_type": "execute_result"
    }
   ],
   "source": [
    "L1, L2, L3"
   ]
  },
  {
   "cell_type": "code",
   "execution_count": 48,
   "id": "9123e488-527e-47ca-8b0b-a33124a3dbd3",
   "metadata": {},
   "outputs": [
    {
     "data": {
      "text/plain": [
       "np.float64(0.08380501593712164)"
      ]
     },
     "execution_count": 48,
     "metadata": {},
     "output_type": "execute_result"
    }
   ],
   "source": [
    "(L3 - L2)/(L1 - L2)"
   ]
  },
  {
   "cell_type": "markdown",
   "id": "f5e90583-9617-4e09-bc8a-86ea1183d7e2",
   "metadata": {},
   "source": [
    "Эта цифра была получена с $\\alpha$ = 0.2..."
   ]
  },
  {
   "cell_type": "markdown",
   "id": "74661fe6-6fad-4232-a767-cdf73668e79d",
   "metadata": {},
   "source": [
    "### Одиночные запуски"
   ]
  },
  {
   "cell_type": "code",
   "execution_count": 82,
   "id": "7e7e7e48-164c-4f0f-9239-6faa54da3bc5",
   "metadata": {},
   "outputs": [],
   "source": [
    "treeseq = msprime.sim_ancestry(\n",
    "        samples={\"p1\": p_size, \"p2\": p_size, \"p3\": p3_size},\n",
    "        demography=dem,\n",
    "        sequence_length=3e5, # надо 3e6\n",
    "        recombination_rate=1e-9, # надо 1e-8\n",
    "        random_seed=seed,\n",
    "        # record_migrations=True,    \n",
    "        # record_provenance=True\n",
    "    )\n",
    "samples_p1 = treeseq.samples(population_id=0)\n",
    "samples_p2 = treeseq.samples(population_id=1)\n",
    "samples_p3 = treeseq.samples(population_id=3)\n",
    "\n",
    "l1 = mean_proportions(treeseq, samples_p1)  \n",
    "l2 = mean_proportions(treeseq, samples_p2)\n",
    "l3 = mean_proportions(treeseq, samples_p3)"
   ]
  },
  {
   "cell_type": "code",
   "execution_count": 83,
   "id": "051c3940-8051-47cf-9d5d-249f938d4660",
   "metadata": {},
   "outputs": [
    {
     "data": {
      "text/plain": [
       "np.float64(0.3010852163637988)"
      ]
     },
     "execution_count": 83,
     "metadata": {},
     "output_type": "execute_result"
    }
   ],
   "source": [
    "(l3-l2)/(l1 - l2)"
   ]
  },
  {
   "cell_type": "markdown",
   "id": "96b016c7-0ca4-4b4b-8835-d38e18b50acb",
   "metadata": {},
   "source": [
    "### 1.5 На одного соседа повыше"
   ]
  },
  {
   "cell_type": "markdown",
   "id": "01888e7b-3f56-43e3-a954-0d164818eb6c",
   "metadata": {},
   "source": [
    "## Распределение через средневзвешенных соседей"
   ]
  },
  {
   "cell_type": "code",
   "execution_count": 1,
   "id": "6bf41e8e-87b9-48ae-8e7b-129ece7c029c",
   "metadata": {},
   "outputs": [],
   "source": [
    "def sample_neighbours_weights(treeseq, sample):\n",
    "    occur1, occur2 = 0, 0 # occur3 тоже считать??\n",
    "    for tree in treeseq.trees():\n",
    "        siblings = tree.siblings(sample)\n",
    "        nearest = list([leaf for leaf in tree.leaves(sibling)] for sibling in siblings)[0]\n",
    "        nearest_pop = [tree.population(nd) for nd in nearest]\n",
    "        occur1 += nearest_pop.count(0) * tree.span #/ len(nearest_pop)\n",
    "        occur2 += nearest_pop.count(1) * tree.span\n",
    "    # occur /= treeseq.sequence_length\n",
    "    return occur1, occur2\n",
    "\n",
    "def mean_weight_proportions(ts, samples_set):\n",
    "    proportions = np.array([sample_neighbours_weights(ts, s) for s in samples_set]) / ts.sequence_length\n",
    "    return np.mean(proportions[:,0]), np.mean(proportions[:,1])"
   ]
  },
  {
   "cell_type": "code",
   "execution_count": 88,
   "id": "cf6f1af2-05f6-436f-8a74-35f5e85d1b05",
   "metadata": {},
   "outputs": [],
   "source": [
    "treeseq = msprime.sim_ancestry(\n",
    "        samples={\"p1\": p_size, \"p2\": p_size, \"p3\": p3_size},\n",
    "        demography=dem,\n",
    "        sequence_length=3e5, # надо 3e6\n",
    "        recombination_rate=1e-9, # надо 1e-8\n",
    "        random_seed=seed,\n",
    "        # record_migrations=True,    \n",
    "        # record_provenance=True\n",
    "    )\n",
    "samples_p1 = treeseq.samples(population_id=0)\n",
    "samples_p2 = treeseq.samples(population_id=1)\n",
    "samples_p3 = treeseq.samples(population_id=3)\n",
    "\n",
    "w1_1, w2_1 = mean_weight_proportions(treeseq, samples_p1)  \n",
    "w1_2, w2_2 = mean_weight_proportions(treeseq, samples_p2)\n",
    "w1_3, w2_3 = mean_weight_proportions(treeseq, samples_p3)"
   ]
  },
  {
   "cell_type": "code",
   "execution_count": 89,
   "id": "1bc4f94d-c233-46f9-aea5-893b5d06f001",
   "metadata": {},
   "outputs": [
    {
     "data": {
      "text/plain": [
       "(np.float64(1.2921456172222223),\n",
       " np.float64(0.014973331111111113),\n",
       " np.float64(0.02624804722222222),\n",
       " np.float64(1.9400994372222218),\n",
       " np.float64(0.6516231866666667),\n",
       " np.float64(0.06155312888888889))"
      ]
     },
     "execution_count": 89,
     "metadata": {},
     "output_type": "execute_result"
    }
   ],
   "source": [
    "w1_1, w2_1, w1_2, w2_2, w1_3, w2_3"
   ]
  },
  {
   "cell_type": "code",
   "execution_count": 91,
   "id": "b12d2fad-f106-4813-9433-f437d958a698",
   "metadata": {},
   "outputs": [
    {
     "data": {
      "text/plain": [
       "np.float64(0.9232429147604424)"
      ]
     },
     "execution_count": 91,
     "metadata": {},
     "output_type": "execute_result"
    }
   ],
   "source": [
    "l1 = w1_1/(w1_1 + w2_1)\n",
    "l2 = w1_2/(w1_2 + w2_2)\n",
    "l3 = w1_3/(w1_3 + w2_3)\n",
    "(l3 - l2)/(l1 - l2)"
   ]
  },
  {
   "cell_type": "markdown",
   "id": "f60c0947-e99a-4843-9eb0-33d620b9c8f6",
   "metadata": {},
   "source": [
    "Проверяем другое значение $\\alpha$"
   ]
  },
  {
   "cell_type": "code",
   "execution_count": 92,
   "id": "4bf778b8-3bcc-417e-91ef-828075decf32",
   "metadata": {},
   "outputs": [],
   "source": [
    "def count_statistics2(treeseq):\n",
    "    samples_p1 = treeseq.samples(population_id=0)\n",
    "    samples_p2 = treeseq.samples(population_id=1)\n",
    "    samples_p3 = treeseq.samples(population_id=3)\n",
    "\n",
    "    w1_1, w2_1 = mean_weight_proportions(treeseq, samples_p1)  \n",
    "    w1_2, w2_2 = mean_weight_proportions(treeseq, samples_p2)\n",
    "    w1_3, w2_3 = mean_weight_proportions(treeseq, samples_p3)\n",
    "    l1 = w1_1/(w1_1 + w2_1)\n",
    "    l2 = w1_2/(w1_2 + w2_2)\n",
    "    l3 = w1_3/(w1_3 + w2_3)\n",
    "    return (l3 - l2)/(l1 - l2)"
   ]
  },
  {
   "cell_type": "code",
   "execution_count": null,
   "id": "2676ac6e-4e7a-46a1-afcd-63cf5f93fbcc",
   "metadata": {},
   "outputs": [],
   "source": []
  },
  {
   "cell_type": "code",
   "execution_count": 93,
   "id": "e25315c1-aeea-4ca0-a69a-96d3f0014a21",
   "metadata": {},
   "outputs": [
    {
     "data": {
      "text/plain": [
       "np.float64(0.437605392147067)"
      ]
     },
     "execution_count": 93,
     "metadata": {},
     "output_type": "execute_result"
    }
   ],
   "source": [
    "split = 0.4\n",
    "dem = msprime.Demography() # TODO: key of migrations\n",
    "dem.add_population(name=\"p1\", initial_size=dem_size * 0.5)\n",
    "dem.add_population(name=\"p2\", initial_size=dem_size*0.5)\n",
    "dem.add_population(name=\"p0\", initial_size=dem_size)\n",
    "dem.add_population(name=\"p3\", initial_size=dem_size/2)\n",
    "dem.add_admixture(time=T_p3, derived=\"p3\", ancestral=[\"p1\", \"p2\"], proportions=[split, 1-split])\n",
    "dem.add_population_split(time=T_split, derived=[\"p1\", \"p2\"], ancestral=\"p0\")\n",
    "\n",
    "treeseq = msprime.sim_ancestry(\n",
    "    samples={\"p1\": p_size, \"p2\": p_size, \"p3\": p3_size},\n",
    "    demography=dem,\n",
    "    sequence_length=3e5, # надо 3e6\n",
    "    recombination_rate=1e-9, # надо 1e-8\n",
    "    random_seed=seed,\n",
    "    # record_migrations=True,    \n",
    "    # record_provenance=True\n",
    ")\n",
    "count_statistics2(treeseq)"
   ]
  },
  {
   "cell_type": "markdown",
   "id": "a70bfd32-c672-445b-943c-05d331a1f6b5",
   "metadata": {},
   "source": [
    "Внимание, мы получаем что-то близкое!"
   ]
  },
  {
   "cell_type": "markdown",
   "id": "f6919896-5bfe-49cc-8259-403f8c5526a5",
   "metadata": {},
   "source": [
    "### давайте w3 учитывать тоже для точности"
   ]
  },
  {
   "cell_type": "code",
   "execution_count": 94,
   "id": "c5a2155f-9f15-47e3-87e4-c2486a446147",
   "metadata": {},
   "outputs": [],
   "source": [
    "def sample_neighbours_weights(treeseq, sample):\n",
    "    occur1, occur2, occur3 = 0, 0, 0\n",
    "    for tree in treeseq.trees():\n",
    "        siblings = tree.siblings(sample)\n",
    "        nearest = list([leaf for leaf in tree.leaves(sibling)] for sibling in siblings)[0]\n",
    "        nearest_pop = [tree.population(nd) for nd in nearest]\n",
    "        occur1 += nearest_pop.count(0) * tree.span #/ len(nearest_pop)\n",
    "        occur2 += nearest_pop.count(1) * tree.span\n",
    "        occur3 += nearest_pop.count(3) * tree.span\n",
    "    return occur1, occur2\n",
    "\n",
    "def mean_weight_proportions(ts, samples_set):\n",
    "    proportions = np.array([sample_neighbours_weights(ts, s) for s in samples_set]) / ts.sequence_length\n",
    "    return np.mean(proportions[:,0]), np.mean(proportions[:,1]), np.mean(proportions[:,2])\n",
    "    \n",
    "def guess_split_proportion2(split):\n",
    "    dem = msprime.Demography() # TODO: key of migrations\n",
    "    dem.add_population(name=\"p1\", initial_size=dem_size * 0.5)\n",
    "    dem.add_population(name=\"p2\", initial_size=dem_size*0.5)\n",
    "    dem.add_population(name=\"p0\", initial_size=dem_size)\n",
    "    dem.add_population(name=\"p3\", initial_size=dem_size/2)\n",
    "    dem.add_admixture(time=T_p3, derived=\"p3\", ancestral=[\"p1\", \"p2\"], proportions=[split, 1-split])\n",
    "    dem.add_population_split(time=T_split, derived=[\"p1\", \"p2\"], ancestral=\"p0\")\n",
    "\n",
    "    treeseq = msprime.sim_ancestry(\n",
    "        samples={\"p1\": p_size, \"p2\": p_size, \"p3\": p3_size},\n",
    "        demography=dem,\n",
    "        sequence_length=3e5, # надо 3e6\n",
    "        recombination_rate=1e-9, # надо 1e-8\n",
    "        random_seed=seed,\n",
    "        # record_migrations=True,    \n",
    "        # record_provenance=True\n",
    "    )\n",
    "\n",
    "    samples_p1 = treeseq.samples(population_id=0)\n",
    "    samples_p2 = treeseq.samples(population_id=1)\n",
    "    samples_p3 = treeseq.samples(population_id=3)\n",
    "\n",
    "    w1_1, w2_1, w3_1 = mean_weight_proportions(treeseq, samples_p1)  \n",
    "    w1_2, w2_2, w3_2 = mean_weight_proportions(treeseq, samples_p2)\n",
    "    w1_3, w2_3, w3_3 = mean_weight_proportions(treeseq, samples_p3)\n",
    "    print(w1_1, w2_1, w3_1, w1_2, w2_2, w3_2, w1_3, w2_3, w3_3)\n",
    "    l1 = w1_1/(w1_1 + w2_1 + w3_1)\n",
    "    l2 = w1_2/(w1_2 + w2_2 + w3_2)\n",
    "    l3 = w1_3/(w1_3 + w2_3 + w3_3)\n",
    "    return (l3 - l2)/(l1 - l2)"
   ]
  },
  {
   "cell_type": "code",
   "execution_count": 95,
   "id": "017f5198-eb57-4376-a2fc-9281391d506c",
   "metadata": {},
   "outputs": [
    {
     "ename": "IndexError",
     "evalue": "index 2 is out of bounds for axis 1 with size 2",
     "output_type": "error",
     "traceback": [
      "\u001b[0;31m---------------------------------------------------------------------------\u001b[0m",
      "\u001b[0;31mIndexError\u001b[0m                                Traceback (most recent call last)",
      "Cell \u001b[0;32mIn[95], line 1\u001b[0m\n\u001b[0;32m----> 1\u001b[0m a1 \u001b[38;5;241m=\u001b[39m \u001b[43mguess_split_proportion2\u001b[49m\u001b[43m(\u001b[49m\u001b[38;5;241;43m0.65\u001b[39;49m\u001b[43m)\u001b[49m\n\u001b[1;32m      2\u001b[0m \u001b[38;5;28mprint\u001b[39m(a1)\n",
      "Cell \u001b[0;32mIn[94], line 39\u001b[0m, in \u001b[0;36mguess_split_proportion2\u001b[0;34m(split)\u001b[0m\n\u001b[1;32m     36\u001b[0m samples_p2 \u001b[38;5;241m=\u001b[39m treeseq\u001b[38;5;241m.\u001b[39msamples(population_id\u001b[38;5;241m=\u001b[39m\u001b[38;5;241m1\u001b[39m)\n\u001b[1;32m     37\u001b[0m samples_p3 \u001b[38;5;241m=\u001b[39m treeseq\u001b[38;5;241m.\u001b[39msamples(population_id\u001b[38;5;241m=\u001b[39m\u001b[38;5;241m3\u001b[39m)\n\u001b[0;32m---> 39\u001b[0m w1_1, w2_1, w3_1 \u001b[38;5;241m=\u001b[39m \u001b[43mmean_weight_proportions\u001b[49m\u001b[43m(\u001b[49m\u001b[43mtreeseq\u001b[49m\u001b[43m,\u001b[49m\u001b[43m \u001b[49m\u001b[43msamples_p1\u001b[49m\u001b[43m)\u001b[49m  \n\u001b[1;32m     40\u001b[0m w1_2, w2_2, w3_2 \u001b[38;5;241m=\u001b[39m mean_weight_proportions(treeseq, samples_p2)\n\u001b[1;32m     41\u001b[0m w1_3, w2_3, w3_3 \u001b[38;5;241m=\u001b[39m mean_weight_proportions(treeseq, samples_p3)\n",
      "Cell \u001b[0;32mIn[94], line 14\u001b[0m, in \u001b[0;36mmean_weight_proportions\u001b[0;34m(ts, samples_set)\u001b[0m\n\u001b[1;32m     12\u001b[0m \u001b[38;5;28;01mdef\u001b[39;00m\u001b[38;5;250m \u001b[39m\u001b[38;5;21mmean_weight_proportions\u001b[39m(ts, samples_set):\n\u001b[1;32m     13\u001b[0m     proportions \u001b[38;5;241m=\u001b[39m np\u001b[38;5;241m.\u001b[39marray([sample_neighbours_weights(ts, s) \u001b[38;5;28;01mfor\u001b[39;00m s \u001b[38;5;129;01min\u001b[39;00m samples_set]) \u001b[38;5;241m/\u001b[39m ts\u001b[38;5;241m.\u001b[39msequence_length\n\u001b[0;32m---> 14\u001b[0m     \u001b[38;5;28;01mreturn\u001b[39;00m np\u001b[38;5;241m.\u001b[39mmean(proportions[:,\u001b[38;5;241m0\u001b[39m]), np\u001b[38;5;241m.\u001b[39mmean(proportions[:,\u001b[38;5;241m1\u001b[39m]), np\u001b[38;5;241m.\u001b[39mmean(\u001b[43mproportions\u001b[49m\u001b[43m[\u001b[49m\u001b[43m:\u001b[49m\u001b[43m,\u001b[49m\u001b[38;5;241;43m2\u001b[39;49m\u001b[43m]\u001b[49m)\n",
      "\u001b[0;31mIndexError\u001b[0m: index 2 is out of bounds for axis 1 with size 2"
     ]
    }
   ],
   "source": [
    "a1 = guess_split_proportion2(0.65)\n",
    "print(a1)"
   ]
  },
  {
   "cell_type": "markdown",
   "id": "7590da02-c164-4484-8a38-c2ed1f12be4e",
   "metadata": {},
   "source": [
    "## Распределение через предков p3 (iconic)"
   ]
  },
  {
   "cell_type": "markdown",
   "id": "107e9f5b-eeb9-44ea-aafb-daedd9bca5d4",
   "metadata": {},
   "source": [
    "Согласно здравому смыслу, alpha можно вычислить, если для каждого экземпляра из P3 посмотреть, восходит ли он к P1 или к P2 "
   ]
  },
  {
   "cell_type": "code",
   "execution_count": 77,
   "id": "9da713e8-09fc-4237-9dae-018d3d5204ab",
   "metadata": {},
   "outputs": [],
   "source": [
    "treeseq = msprime.sim_ancestry(\n",
    "        samples={\"p1\": p_size, \"p2\": p_size, \"p3\": p3_size},\n",
    "        demography=dem,\n",
    "        sequence_length=3e5, # надо 3e6\n",
    "        recombination_rate=1e-9, # надо 1e-8\n",
    "        random_seed=seed,\n",
    "        # record_migrations=True,    \n",
    "        # record_provenance=True\n",
    "    )\n",
    "samples_p3 = treeseq.samples(population_id=3)\n",
    "alpha = 0\n",
    "for s in samples_p3:\n",
    "    des = 0\n",
    "    for tree in treeseq.trees():\n",
    "        p = tree.parent(s)\n",
    "        while tree.population(p) == 3:\n",
    "            # print(p)\n",
    "            p = tree.parent(p)\n",
    "        # id_p1 = 0, id_p2 = 1\n",
    "        # то есть дробное число получившееся в конечном счете будет процентным содержанием p2\n",
    "        # если сразу в p0 попадаем, то считаем это как P2, потому что всё равно потом берем 1-alpha\n",
    "        des += tree.span * min(tree.population(p), 1)\n",
    "    des = np.round(des/ treeseq.sequence_length)\n",
    "    alpha += des\n",
    "alpha /= (p3_size * 2)"
   ]
  },
  {
   "cell_type": "code",
   "execution_count": 78,
   "id": "208baa4a-1012-431d-a6a9-a5be5dac19a2",
   "metadata": {},
   "outputs": [
    {
     "data": {
      "text/plain": [
       "np.float64(0.9468333333333333)"
      ]
     },
     "execution_count": 78,
     "metadata": {},
     "output_type": "execute_result"
    }
   ],
   "source": [
    "1 - alpha"
   ]
  },
  {
   "cell_type": "markdown",
   "id": "85438576-98bd-408b-9a81-edae2a6584f2",
   "metadata": {},
   "source": [
    "Было $\\alpha = 0.95$\n",
    "\n",
    "\"Вау, это работает\""
   ]
  },
  {
   "cell_type": "markdown",
   "id": "7b661133-00b2-45ab-ae68-79fe152e2e94",
   "metadata": {},
   "source": [
    "TODO\n",
    "\n",
    "r- reference panel???\n",
    "\n",
    "Пусть изначально по k=100 экземпляров P1 и P2\n",
    "\n",
    "k_learning = 25, k_validation=5\n",
    "\n",
    "Чтобы не генерить кучу деревьев, мы в момент t=15 генерим n популяций c_i, где сплит c_i-1 популяции это 0.05*i (пусть для начала их будет, например, 7) , тогда у p1, p2 по (k_r + k_l) экземпляров, по k_v экземпляров у смешенных популяций\n",
    "\n",
    "reference panel: по 100 (первых?) образцов из p1 и p2 . Фиксируем. \n",
    "\n",
    "Что мы берем. Рассматриваем подмножество \n",
    "берем по 100 референсов и по 25 лернигов\n",
    "for el in Learning:\n",
    "    строим distribution этой выборки референсов + el    \n",
    "subgraph из референсов + один элемент из learning/validation. Два лернинга ничего друг про друга не знают!! И ВОТ ДЛЯ ЭТОГО ПОДГРАФА МЫ СЧИТАЕМ ДОЛЮ ВХОЖДЕНИЯ РЕФЕРЕНСНЫХ ЭЛЕМЕНТОВ среди соседей\n",
    "Смотрим распределение для A и B, контролируя размер ветки:\n",
    "- пусть s - кол-во соседей (через ближайшего предка) для конкретного экземпляра, и мы нормируем на это число распределение соседей из P1 и P2\n",
    "\n",
    "Имея distrA, distrB (среднее mean{distr(el) for el in Learning}), мы оцениваем alpha для валидационных выборок по новым смешанным популяциям\n",
    "\n",
    "аргмин по alpha - финальная цель (минимизировать ошибку по 2-норме)\n",
    "\n",
    "Вектор референсов \n",
    "\n",
    "Цель: изучение генетической структуры и истории популяции при помощи ARG\n",
    "\n",
    "Задачи:\n",
    "Глобальная задача: 1) мы не знаем коэффициент перемешивания двух хорошо определенных популяций,для некоторой популяции между ними хотим определить коэффициент перемешивания. (не знаем распределение времен, знаем топологические свойства и несбалансированность генеологии)\n",
    "\n",
    "\n",
    "ПОСЛЕ ТОГО КАК ПОЛУЧИМ ОЦЕНКИ на валидации\n",
    "- точность оценки усреднения по нескольким образцам (bootstrap jackknife)\n",
    "\n",
    "Начать читать recombinatorics!!"
   ]
  }
 ],
 "metadata": {
  "kernelspec": {
   "display_name": "Python 3 (ipykernel)",
   "language": "python",
   "name": "python3"
  },
  "language_info": {
   "codemirror_mode": {
    "name": "ipython",
    "version": 3
   },
   "file_extension": ".py",
   "mimetype": "text/x-python",
   "name": "python",
   "nbconvert_exporter": "python",
   "pygments_lexer": "ipython3",
   "version": "3.12.3"
  }
 },
 "nbformat": 4,
 "nbformat_minor": 5
}
